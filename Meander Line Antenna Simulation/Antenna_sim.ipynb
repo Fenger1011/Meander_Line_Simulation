{
 "cells": [
  {
   "cell_type": "code",
   "execution_count": 4,
   "id": "4b261434",
   "metadata": {},
   "outputs": [],
   "source": [
    "### --- imports ---\n",
    "import math\n",
    "import numpy as np\n",
    "import matplotlib.pyplot as plt\n",
    "from mpl_toolkits.mplot3d import Axes3D"
   ]
  },
  {
   "cell_type": "code",
   "execution_count": 5,
   "id": "f88fc745",
   "metadata": {},
   "outputs": [
    {
     "name": "stdout",
     "output_type": "stream",
     "text": [
      "[[1. 0. 0.]\n",
      " [0. 1. 0.]\n",
      " [0. 0. 1.]]\n",
      "[0.01 0.01 0.05]\n"
     ]
    }
   ],
   "source": [
    "#   Class for Meander line coordinates\n",
    "#   Can return r_hat vectors for each dipole orientation\n",
    "\n",
    "class CoordinateSet:\n",
    "    def __init__(self, coords, lengths):\n",
    "        self.coords = np.array(coords, dtype=float) # shape (N,3) -----> Maybe add the length so we can calc based on length of each side (some are smaller)\n",
    "        self.lengths = np.array(lengths, dtype=float)\n",
    "\n",
    "    def as_array(self):\n",
    "        #Return the (N,3) numpy array of (x,y,z).\n",
    "        return self.coords\n",
    "    \n",
    "    def lengths_array(self):\n",
    "        # Return the lengths\n",
    "        return self.lengths\n",
    "    \n",
    "    def r_vectors(self):\n",
    "        #Return full 3D vectors (x,y,z) as (N,3).\n",
    "        return self.coords\n",
    "    \n",
    "    def r_norms(self):\n",
    "        #Return distances from origin (N,).\n",
    "        return np.linalg.norm(self.r_vectors(), axis=1)\n",
    "    \n",
    "    def r_hat(self):\n",
    "        #Return unit vectors pointing from origin to each (x,y,z)\n",
    "        r_vecs = self.r_vectors()\n",
    "        return r_vecs / self.r_norms()[:,None]\n",
    "    \n",
    "coords = [[1,0,0], [0,1,0], [0,0,1]]    # x-axis, y-axis, z-axis\n",
    "lengths = [0.01, 0.01, 0.05]            # 1cm, 1cm, 5cm\n",
    "\n",
    "meander = CoordinateSet(coords, lengths)\n",
    "\n",
    "print(meander.as_array())\n",
    "print(meander.lengths_array())"
   ]
  },
  {
   "cell_type": "markdown",
   "id": "db4ad587",
   "metadata": {},
   "source": [
    "Assuming a uniform microstrip with per-unit parameters collapsed into: <br>\n",
    "    $Z_0 \\\\$\n",
    "    $\\gamma = \\alpha + j\\beta$\n",
    "\n",
    "The current along a lossy matched transmission line is a single forward traveling wave: <br>\n",
    "$I(\\ell) = I_0 e^{-j\\gamma \\ell}$, <br>\n",
    "where $I_0$ is the current at the input terminals and $\\ell$ is the length of the transmission (meander) line"
   ]
  },
  {
   "cell_type": "code",
   "execution_count": 6,
   "id": "d60db750",
   "metadata": {},
   "outputs": [],
   "source": [
    "#   Current distribution along transmission line\n",
    "#   Derived from transmission line theory\n",
    "#   Matched load assumed → forward-traveling wave only (no reflections)\n",
    "\n",
    "# Lossy transmission line\n",
    "def currentDistLossy(I_0, l, alpha, beta):\n",
    "    return I_0 * np.exp(-(alpha + 1j*beta)*l)\n",
    "\n",
    "# Lossless transmission line\n",
    "def currentDistLossless(I_0, l, alpha, beta):\n",
    "    return I_0 * np.exp(-1j*beta*l)"
   ]
  },
  {
   "cell_type": "markdown",
   "id": "93afc1fe",
   "metadata": {},
   "source": [
    "The E-field from infinitesimal dipole antenna.<br>\n",
    "$E_{r} = \\eta \\frac{I_0 l \\cos(\\theta)}{2\\pi r^2} \\left[ 1 + \\frac{1}{jkr} \\right] e^{-jkr} \\\\$\n",
    "$E_{\\theta} = j \\eta \\frac{k I_0 l \\sin(\\theta)}{4 \\pi r} \\left[ 1 + \\frac{1}{jkr} - \\frac{1}{(kr)^2} \\right] e^{-jkr} \\\\$\n",
    "$E_{\\phi} = 0 \\\\ \\\\$\n",
    "\n",
    "For the far-field we have<br>\n",
    "$E_{r,ff} = \\eta \\frac{I_0 l \\cos(\\theta)}{2\\pi r^2} e^{-jkr} \\approx 0\\\\$\n",
    "$E_{\\theta,ff} = j \\eta \\frac{k I_0 l \\sin(\\theta)}{4\\pi r} e^{-jkr} \\\\$\n",
    "$E_{\\phi,ff} = 0$\n",
    "\n",
    "Since $\\sin \\theta = \\left\\lVert \\hat{h} \\times \\hat{s} \\right\\rVert$: <br>\n",
    "$E_{\\theta,ff} = j \\eta \\frac{k I_0 l e^{-jkr}}{4\\pi r} \\left\\lVert \\hat{h} \\times \\hat{s} \\right\\rVert\\\\$\n",
    "where $\\hat{h}$ = dipole axis normal vector, $\\hat{s}$ = normalized direction vector from the position of the Hertz dipole to the observer point."
   ]
  },
  {
   "cell_type": "code",
   "execution_count": null,
   "id": "f0eae6d3",
   "metadata": {},
   "outputs": [],
   "source": [
    "# --- Get field from single dipole with length l at a single observation point R---\n",
    "def singleDipole(I0, l, r, h_hat, s_hat):\n",
    "    c0 = 299_792_458    # Speed of light\n",
    "    eta = 120*np.pi     # Free-space permittivity\n",
    "    freq = 1030e6       # Frequency from paper\n",
    "    Lambda = c0/freq    # Free-space wavelength \n",
    "    k = 2*np.pi/Lambda    \n",
    "    pass\n",
    "\"\"\"\n",
    "Must have:\n",
    "    - eta:   Permittivity\n",
    "    - k:     2pi/lambda\n",
    "    - I0:    Current at point l on transmission line (use currentDist functions)\n",
    "    - l:     Length of infinitesimal dipole\n",
    "    - r:     Radius from dipole (origin) to observation point R\n",
    "    - h_hat: Unit vector along dipole axis\n",
    "    - s_hat: Unit vector pointing toward observation point R    \n",
    "\"\"\""
   ]
  }
 ],
 "metadata": {
  "kernelspec": {
   "display_name": "dlenv",
   "language": "python",
   "name": "python3"
  },
  "language_info": {
   "codemirror_mode": {
    "name": "ipython",
    "version": 3
   },
   "file_extension": ".py",
   "mimetype": "text/x-python",
   "name": "python",
   "nbconvert_exporter": "python",
   "pygments_lexer": "ipython3",
   "version": "3.12.11"
  }
 },
 "nbformat": 4,
 "nbformat_minor": 5
}
